{
 "cells": [
  {
   "cell_type": "markdown",
   "id": "64d44da9-558f-4634-9de8-de0f46f93cfe",
   "metadata": {},
   "source": [
    "## Часть 1: Введение в Pandas\n",
    "\n",
    "Pandas - это библиотека Python для работы с данными. Она предоставляет мощные инструменты для анализа и манипуляции данными.\n",
    "\n",
    "### Установка Pandas\n",
    "\n",
    "Для начала убедитесь, что у вас установлена библиотека Pandas. Если ее нет, установите ее с помощью команды:\n"
   ]
  },
  {
   "cell_type": "code",
   "execution_count": null,
   "id": "7484df51-b002-414c-ae42-75a2df57c78d",
   "metadata": {},
   "outputs": [],
   "source": [
    "!pip install pandas"
   ]
  },
  {
   "cell_type": "markdown",
   "id": "4b655e29-c3a5-4117-9860-2d6b9af62ac1",
   "metadata": {},
   "source": [
    "## Импорт библиотеки\n",
    "Давайте начнем с импорта библиотеки Pandas:"
   ]
  },
  {
   "cell_type": "code",
   "execution_count": 1,
   "id": "bfc3346f-3843-4aff-aec0-54321b9774f0",
   "metadata": {
    "tags": []
   },
   "outputs": [],
   "source": [
    "import pandas as pd"
   ]
  },
  {
   "cell_type": "markdown",
   "id": "ea8530e9-c179-48c1-8043-ff87f415ee67",
   "metadata": {},
   "source": [
    "## Часть 2: Работа с данными\n",
    "### Чтение данных\n",
    "Мы будем использовать датасет Titanic. Давайте прочитаем данные из CSV файла."
   ]
  },
  {
   "cell_type": "code",
   "execution_count": null,
   "id": "fa5deec6-c85e-4d88-89df-bea7d75fcbba",
   "metadata": {},
   "outputs": [],
   "source": [
    "data = pd.read_csv('titanic.csv')\n",
    "print(data)"
   ]
  },
  {
   "cell_type": "markdown",
   "id": "07dfd488-4960-495e-80d8-9cf5903449b6",
   "metadata": {},
   "source": [
    "### Предпросмотр данных\n",
    "Для первого ознакомления с данными давайте выведем первые несколько строк."
   ]
  },
  {
   "cell_type": "code",
   "execution_count": null,
   "id": "216e104c-259f-4ecd-9cd4-40362f61ca4e",
   "metadata": {},
   "outputs": [],
   "source": [
    "file = pd.read_csv('titanic.csv')\n",
    "print(file.head())"
   ]
  },
  {
   "cell_type": "markdown",
   "id": "b7ba5f57-07e1-4c0f-9b55-9d78638ee2cc",
   "metadata": {},
   "source": [
    "### Информация о данных\n",
    "Чтобы получить общую информацию о данных, воспользуйтесь методом .info()."
   ]
  },
  {
   "cell_type": "code",
   "execution_count": null,
   "id": "43650b4f-f3e7-4480-b874-b5552f564383",
   "metadata": {},
   "outputs": [],
   "source": [
    "file = pd.read_csv('titanic.csv')\n",
    "print(file.info())"
   ]
  },
  {
   "cell_type": "markdown",
   "id": "a6857118-a82e-4586-a933-4eb0df9cb74e",
   "metadata": {},
   "source": [
    "### Работа с NaN\n",
    "Часто данные содержат пропущенные значения, которые представляются как NaN (Not a Number). Pandas предоставляет удобные методы для работы с ними.\n",
    "\n",
    "Проверка на наличие NaN. Методы fillna и dropna возвращают новые Dataframe, проверьте нет ли в них NaN"
   ]
  },
  {
   "cell_type": "code",
   "execution_count": 2,
   "id": "f7910fde-24f7-4cf8-991d-01f08bc45b63",
   "metadata": {
    "tags": []
   },
   "outputs": [],
   "source": [
    "file = pd.read_csv('titanic.csv')\n",
    "print(file.isna().sum())"
   ]
  },
  {
   "cell_type": "markdown",
   "id": "1dadeaf7-e214-4552-b054-8e4a03714f72",
   "metadata": {},
   "source": [
    "Заполнение NaN"
   ]
  },
  {
   "cell_type": "code",
   "execution_count": null,
   "id": "7d901187-75a9-497e-8774-6e0dde584197",
   "metadata": {},
   "outputs": [],
   "source": [
    "file = pd.read_csv('titanic.csv')\n",
    "print(file.fillna(0).head())"
   ]
  },
  {
   "cell_type": "markdown",
   "id": "6f32fddb-ec60-456b-8958-5c81b0357d49",
   "metadata": {},
   "source": [
    "Удаление строк с NaN"
   ]
  },
  {
   "cell_type": "code",
   "execution_count": 3,
   "id": "4d188deb-0818-4b01-b3a5-9d20d2166d10",
   "metadata": {
    "tags": []
   },
   "outputs": [],
   "source": [
    "file = pd.read_csv('titanic.csv')\n",
    "print(file.dropna().head())"
   ]
  },
  {
   "cell_type": "markdown",
   "id": "7a4ff131-1593-4cd2-b2bc-e0ddb2442d3b",
   "metadata": {},
   "source": [
    "## Часть 3: Обработка DataFrame\n",
    "### Выбор данных\n",
    "Pandas позволяет выбирать данные по индексам, меткам столбцов и условиям."
   ]
  },
  {
   "cell_type": "code",
   "execution_count": 4,
   "id": "d11f6114-ce4b-4e71-afec-adf1d8c1ec6e",
   "metadata": {
    "tags": []
   },
   "outputs": [],
   "source": [
    "import pandas as pd\n",
    "\n",
    "file = pd.read_csv('titanic.csv')\n",
    "\n",
    "print(file['Age'])\n",
    "\n",
    "print(file[['Name', 'Age']])\n",
    "\n",
    "print(file.loc[10])\n",
    "\n",
    "print(file[(file['Sex'] == 'male') & (file['Age'] > 30)])"
   ]
  },
  {
   "cell_type": "markdown",
   "id": "f3102de8-d2fd-4593-bf26-721316ae51e9",
   "metadata": {},
   "source": [
    "### Сортировка данных\n",
    "Сортировка данных по значениям столбцов."
   ]
  },
  {
   "cell_type": "code",
   "execution_count": 5,
   "id": "de5e850c-e920-4ae4-aadb-3f1953438b09",
   "metadata": {
    "tags": []
   },
   "outputs": [],
   "source": [
    "file = pd.read_csv('titanic.csv')\n",
    "print(file.sort_values(by='Age'))"
   ]
  },
  {
   "cell_type": "markdown",
   "id": "eab3cd85-5e96-4228-8834-9ef53b93689a",
   "metadata": {},
   "source": [
    "### Группировка данных\n",
    "Pandas также позволяет группировать данные и выполнять агрегирующие операции."
   ]
  },
  {
   "cell_type": "code",
   "execution_count": 6,
   "id": "25ced901-0482-49a8-8c12-d192e84e3fb3",
   "metadata": {
    "tags": []
   },
   "outputs": [],
   "source": [
    "file = pd.read_csv('titanic.csv')\n",
    "print(file.groupby('Pclass')['Survived'].mean())"
   ]
  },
  {
   "cell_type": "markdown",
   "id": "d0355db7-7bf9-46d1-ad51-5f2eddc42501",
   "metadata": {},
   "source": [
    "## Часть 4: Задания для практики\n",
    "Прочитайте данные из файла 'titanic.csv'.\n",
    "Проверьте, есть ли пропущенные значения в данных и заполните их нулями.\n",
    "Выведите первые 10 строк данных.\n",
    "Выберите только те строки, где значение в столбце 'Age' больше 30.\n",
    "Отсортируйте данные по столбцу 'Fare' в порядке убывания.\n",
    "Сгруппируйте данные по столбцу 'Pclass' и вычислите средний возраст ('Age') для каждого класса."
   ]
  },
  {
   "cell_type": "code",
   "execution_count": null,
   "id": "a1b4deaa-cd06-41b3-8084-5c2d3a867811",
   "metadata": {},
   "outputs": [],
   "source": [
    "import pandas as pd\n",
    "\n",
    "file = pd.read_csv('titanic.csv').fillna(0)\n",
    "\n",
    "print(\"Первые 10 строк данных:\")\n",
    "print(file.head(10))\n",
    "\n",
    "print(\"\\n\\nСтроки, где возраст больше 30:\")\n",
    "print(file[file['Age'] > 30])\n",
    "\n",
    "print(\"\\n\\nДанные, отсортированные по столбцу 'Fare' в порядке убывания:\")\n",
    "print(file.sort_values(by='Fare', ascending=False))\n",
    "\n",
    "print(\"\\nСредний возраст для каждого класса Pclass:\")\n",
    "print(file.groupby('Pclass')['Age'].mean())"
   ]
  }
 ],
 "metadata": {
  "kernelspec": {
   "display_name": "Python 3 (ipykernel)",
   "language": "python",
   "name": "python3"
  },
  "language_info": {
   "codemirror_mode": {
    "name": "ipython",
    "version": 3
   },
   "file_extension": ".py",
   "mimetype": "text/x-python",
   "name": "python",
   "nbconvert_exporter": "python",
   "pygments_lexer": "ipython3",
   "version": "3.11.5"
  }
 },
 "nbformat": 4,
 "nbformat_minor": 5
}
